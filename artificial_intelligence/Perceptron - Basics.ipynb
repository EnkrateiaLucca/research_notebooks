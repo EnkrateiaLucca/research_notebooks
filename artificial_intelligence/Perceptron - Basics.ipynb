{
 "cells": [
  {
   "cell_type": "code",
   "execution_count": 65,
   "metadata": {},
   "outputs": [
    {
     "name": "stdout",
     "output_type": "stream",
     "text": [
      "Computed weights:  8.018417617007652 8.018384674244016\n",
      "Computed bias:  -12.114007266467198\n",
      "Testing Perceptron\n",
      "Prediction for inputs 0 1:  5.482152464483487e-06\n"
     ]
    }
   ],
   "source": [
    "# Using a sigmoid function\n",
    "import numpy as np\n",
    "\n",
    "def sigmoid(x):\n",
    "    return 1/(1+np.exp(-x))\n",
    "\n",
    "def step_function(x):\n",
    "    if x>0.5:\n",
    "        return 1\n",
    "    else:\n",
    "        return 0\n",
    "\n",
    "def sigmoid_derivative(x):\n",
    "    return x*(1-x)\n",
    "\n",
    "# Initialize weights\n",
    "w1 = np.random.randn()\n",
    "w2 = np.random.randn()\n",
    "b = np.random.randn()\n",
    "\n",
    "train_data = [(0, 0, 0), (0, 1, 0), (1, 0, 0), (1, 1, 1)]\n",
    "learning_rate = 0.1\n",
    "epochs = 100000\n",
    "for epoch in range(epochs):\n",
    "    for x1,x2,y in train_data:\n",
    "        y_hat = sigmoid(w1*x1+w2*x2+b)\n",
    "        error = y - y_hat\n",
    "        gradient = error * sigmoid_derivative(y_hat)\n",
    "        w1+=learning_rate*gradient*x1\n",
    "        w2+=learning_rate*gradient*x2\n",
    "        b+=learning_rate*gradient\n",
    "\n",
    "print(\"Computed weights: \", w1, w2)\n",
    "print(\"Computed bias: \", b)\n",
    "\n",
    "print(\"Testing Perceptron\")\n",
    "x1 = 0\n",
    "x2 = 0\n",
    "y_hat = sigmoid(w1*x1+w2*x2+b)\n",
    "print(\"Prediction for inputs 0 1: \", y_hat)        "
   ]
  },
  {
   "cell_type": "code",
   "execution_count": 64,
   "metadata": {},
   "outputs": [
    {
     "name": "stdout",
     "output_type": "stream",
     "text": [
      "Computed weights:  10.020041697719623 10.020008806970818\n",
      "Computed bias:  -8.116441597849967\n",
      "Testing Perceptron\n",
      "Prediction for inputs 1 0:  1\n"
     ]
    }
   ],
   "source": [
    "# Lets use a step function\n",
    "train_data = [(0, 0, 0), (0, 1, 0), (1, 0, 0), (1, 1, 1)]\n",
    "train_data = [(0, 0, 0), (0, 1, 1), (1, 0, 1), (1, 1, 1)]\n",
    "epochs = 100000\n",
    "for epoch in range(epochs):\n",
    "    for x1,x2,y in train_data:\n",
    "        y_hat = step_function(w1*x1+w2*x2+b)\n",
    "        error = y - y_hat\n",
    "        w1+=error*x1\n",
    "        w2+=error*x2\n",
    "        b+=error\n",
    "\n",
    "print(\"Computed weights: \", w1, w2)\n",
    "print(\"Computed bias: \", b)\n",
    "print(\"Testing Perceptron\")\n",
    "x1 = 1\n",
    "x2 = 0\n",
    "y_hat = step_function(w1*x1+w2*x2+b)\n",
    "print(f\"Prediction for inputs {x1} {x2}: \", y_hat)"
   ]
  },
  {
   "cell_type": "code",
   "execution_count": 75,
   "metadata": {},
   "outputs": [
    {
     "name": "stdout",
     "output_type": "stream",
     "text": [
      "Computed weights:  -42.73138041662851\n",
      "Computed bias:  0.7059133548343473\n",
      "Testing Perceptron\n",
      "Prediction for input 2:  1.550846579818648e-37\n"
     ]
    }
   ],
   "source": [
    "# lets train a sigmoid to learn a more complex function\n",
    "# lets start with a line\n",
    "\n",
    "def calculate_mse_error(y,y_hat):\n",
    "    return np.mean((y-y_hat)**2)\n",
    "\n",
    "\n",
    "# Initialize weights\n",
    "w1 = np.random.randn()\n",
    "w2 = np.random.randn()\n",
    "b = np.random.randn()\n",
    "\n",
    "function_to_learn = lambda x: 2*x\n",
    "train_data = [(a,function_to_learn(a)) for a in np.arange(-10,10,0.1)] \n",
    "learning_rate = 0.1\n",
    "epochs = 100000\n",
    "for epoch in range(epochs):\n",
    "    for x1,y in train_data:\n",
    "        y_hat = sigmoid(w1*x1+b)\n",
    "        error = calculate_mse_error(y, y_hat)\n",
    "        gradient = error * sigmoid_derivative(y_hat)\n",
    "        w1+=learning_rate*gradient*x1\n",
    "#        w2+=learning_rate*gradient*x2\n",
    "\n",
    "print(\"Computed weights: \", w1)\n",
    "print(\"Computed bias: \", b)\n",
    "\n",
    "print(\"Testing Perceptron\")\n",
    "x1 = 2\n",
    "y_hat = sigmoid(w1*x1+b)\n",
    "print(f\"Prediction for input {x1}: \", y_hat)"
   ]
  },
  {
   "cell_type": "code",
   "execution_count": null,
   "metadata": {},
   "outputs": [],
   "source": []
  },
  {
   "cell_type": "code",
   "execution_count": 55,
   "metadata": {},
   "outputs": [
    {
     "data": {
      "text/plain": [
       "0"
      ]
     },
     "execution_count": 55,
     "metadata": {},
     "output_type": "execute_result"
    }
   ],
   "source": []
  },
  {
   "cell_type": "code",
   "execution_count": null,
   "metadata": {},
   "outputs": [],
   "source": []
  },
  {
   "cell_type": "code",
   "execution_count": null,
   "metadata": {},
   "outputs": [],
   "source": []
  },
  {
   "cell_type": "code",
   "execution_count": null,
   "metadata": {},
   "outputs": [],
   "source": []
  },
  {
   "cell_type": "code",
   "execution_count": null,
   "metadata": {},
   "outputs": [],
   "source": [
    "\n"
   ]
  },
  {
   "cell_type": "code",
   "execution_count": 22,
   "metadata": {},
   "outputs": [
    {
     "data": {
      "text/plain": [
       "(2,)"
      ]
     },
     "execution_count": 22,
     "metadata": {},
     "output_type": "execute_result"
    }
   ],
   "source": []
  },
  {
   "cell_type": "code",
   "execution_count": null,
   "metadata": {},
   "outputs": [],
   "source": []
  },
  {
   "cell_type": "code",
   "execution_count": null,
   "metadata": {},
   "outputs": [],
   "source": []
  },
  {
   "cell_type": "code",
   "execution_count": null,
   "metadata": {},
   "outputs": [],
   "source": []
  },
  {
   "cell_type": "code",
   "execution_count": null,
   "metadata": {},
   "outputs": [],
   "source": []
  }
 ],
 "metadata": {
  "kernelspec": {
   "display_name": "Python 3",
   "language": "python",
   "name": "python3"
  },
  "language_info": {
   "codemirror_mode": {
    "name": "ipython",
    "version": 3
   },
   "file_extension": ".py",
   "mimetype": "text/x-python",
   "name": "python",
   "nbconvert_exporter": "python",
   "pygments_lexer": "ipython3",
   "version": "3.6.6+"
  }
 },
 "nbformat": 4,
 "nbformat_minor": 2
}
